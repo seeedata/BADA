{
  "cells": [
    {
      "cell_type": "markdown",
      "metadata": {
        "id": "view-in-github",
        "colab_type": "text"
      },
      "source": [
        "<a href=\"https://colab.research.google.com/github/seeedata/BADA/blob/main/0922%20Data%20Handling/Python%20Pre_learning%20Exercises.ipynb\" target=\"_parent\"><img src=\"https://colab.research.google.com/assets/colab-badge.svg\" alt=\"Open In Colab\"/></a>"
      ]
    },
    {
      "cell_type": "markdown",
      "metadata": {
        "id": "LBtGAn0sHypK"
      },
      "source": [
        "# 문제 1"
      ]
    },
    {
      "cell_type": "code",
      "execution_count": null,
      "metadata": {
        "id": "HB2hgpiVHypP",
        "outputId": "581e694e-f078-4c05-8049-d97768b9fb0c"
      },
      "outputs": [
        {
          "name": "stdout",
          "output_type": "stream",
          "text": [
            "8\n"
          ]
        }
      ],
      "source": [
        "i = 0\n",
        "n = int(input())\n",
        "\n",
        "while n!=1 and i<500:\n",
        "    if n%2 == 0:\n",
        "        i += 1\n",
        "        n //= 2\n",
        "    else:\n",
        "        i += 1\n",
        "        n = 3*n + 1\n",
        "\n",
        "if n==1:\n",
        "    print(i)\n",
        "if i>=500:\n",
        "    print(-1)"
      ]
    },
    {
      "cell_type": "markdown",
      "metadata": {
        "id": "TWn0gIqcHypS"
      },
      "source": [
        "# 문제 2"
      ]
    },
    {
      "cell_type": "code",
      "execution_count": null,
      "metadata": {
        "id": "3b3CgCj5HypT",
        "outputId": "28eed9c2-656d-44d2-ef82-88a4699c86f4"
      },
      "outputs": [
        {
          "name": "stdout",
          "output_type": "stream",
          "text": [
            "('한국', 9765000)\n"
          ]
        }
      ],
      "source": [
        "city = {'서울': ('한국', 9765000),\n",
        "        '뉴욕': ('미국', 8623000),\n",
        "        '도쿄': ('일본', 13929286),\n",
        "        '런던': ('영국', 8908081)}\n",
        "\n",
        "name = input()\n",
        "\n",
        "if name in city.keys():\n",
        "    print(city[name])\n",
        "else:\n",
        "    print('해당 도시 정보를 찾을 수 없습니다.')"
      ]
    },
    {
      "cell_type": "markdown",
      "metadata": {
        "id": "qUJh-_r9HypT"
      },
      "source": [
        "# 문제 3"
      ]
    },
    {
      "cell_type": "code",
      "execution_count": null,
      "metadata": {
        "id": "3WUcnvFLHypU",
        "outputId": "8ba7039a-9fcb-45b5-f3ee-8ac881683e48"
      },
      "outputs": [
        {
          "name": "stdout",
          "output_type": "stream",
          "text": [
            "{3, 4, 5}\n"
          ]
        }
      ],
      "source": [
        "A = {1, 2, 3, 4, 5}\n",
        "B = {3, 4, 5, 6, 7}\n",
        "\n",
        "print(A & B)"
      ]
    },
    {
      "cell_type": "markdown",
      "metadata": {
        "id": "2bHYj3yaHypU"
      },
      "source": [
        "# 문제 4"
      ]
    },
    {
      "cell_type": "code",
      "execution_count": null,
      "metadata": {
        "id": "_XGe7AJ5HypV",
        "outputId": "904ac2ed-8e72-483a-9577-3ed7523a8ffb"
      },
      "outputs": [
        {
          "data": {
            "text/plain": [
              "'Charlie'"
            ]
          },
          "execution_count": 21,
          "metadata": {},
          "output_type": "execute_result"
        }
      ],
      "source": [
        "grades = { 'Alice': [85, 90, 92], 'Bob': [78, 89, 80], 'Charlie': [92, 95, 88]}\n",
        "\n",
        "def highest_avg_student(grades):\n",
        "    highest_avg = 0\n",
        "\n",
        "    for student, scores in grades.items():\n",
        "        avg_score = sum(scores) / len(scores)\n",
        "\n",
        "        if avg_score > highest_avg:\n",
        "            highest_avg = avg_score\n",
        "            highest_avg_student = student\n",
        "\n",
        "    return highest_avg_student\n",
        "\n",
        "highest_avg_student(grades)"
      ]
    }
  ],
  "metadata": {
    "kernelspec": {
      "display_name": "base",
      "language": "python",
      "name": "python3"
    },
    "language_info": {
      "codemirror_mode": {
        "name": "ipython",
        "version": 3
      },
      "file_extension": ".py",
      "mimetype": "text/x-python",
      "name": "python",
      "nbconvert_exporter": "python",
      "pygments_lexer": "ipython3",
      "version": "3.10.9"
    },
    "orig_nbformat": 4,
    "colab": {
      "provenance": [],
      "include_colab_link": true
    }
  },
  "nbformat": 4,
  "nbformat_minor": 0
}