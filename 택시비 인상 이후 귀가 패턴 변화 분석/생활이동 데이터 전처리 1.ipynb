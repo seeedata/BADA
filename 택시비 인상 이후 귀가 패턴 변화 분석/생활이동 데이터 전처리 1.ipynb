{
  "cells": [
    {
      "cell_type": "markdown",
      "metadata": {
        "id": "view-in-github",
        "colab_type": "text"
      },
      "source": [
        "<a href=\"https://colab.research.google.com/github/seeedata/BADA/blob/main/BADATON/%EC%83%9D%ED%99%9C%EC%9D%B4%EB%8F%99%20%EB%8D%B0%EC%9D%B4%ED%84%B0%20%EC%A0%84%EC%B2%98%EB%A6%AC%201.ipynb\" target=\"_parent\"><img src=\"https://colab.research.google.com/assets/colab-badge.svg\" alt=\"Open In Colab\"/></a>"
      ]
    },
    {
      "cell_type": "markdown",
      "source": [
        "#import"
      ],
      "metadata": {
        "id": "Z2H8isiX_GoM"
      },
      "id": "Z2H8isiX_GoM"
    },
    {
      "cell_type": "code",
      "execution_count": null,
      "metadata": {
        "colab": {
          "base_uri": "https://localhost:8080/"
        },
        "id": "ieyAp056_Qj2",
        "outputId": "5f5c956f-0827-4a7e-f8ee-2ab83ea9a60f"
      },
      "outputs": [
        {
          "output_type": "stream",
          "name": "stdout",
          "text": [
            "Mounted at /content/drive\n"
          ]
        }
      ],
      "source": [
        "from google.colab import drive\n",
        "drive.mount('/content/drive')"
      ],
      "id": "ieyAp056_Qj2"
    },
    {
      "cell_type": "code",
      "execution_count": null,
      "metadata": {
        "id": "e3a50abd"
      },
      "outputs": [],
      "source": [
        "import pandas as pd\n",
        "import numpy as np"
      ],
      "id": "e3a50abd"
    },
    {
      "cell_type": "code",
      "execution_count": null,
      "metadata": {
        "colab": {
          "base_uri": "https://localhost:8080/"
        },
        "id": "9dea401e",
        "outputId": "2a43d914-b2b1-4955-b2f4-9e1b348f61d4",
        "scrolled": true
      },
      "outputs": [
        {
          "data": {
            "text/plain": [
              "['생활이동_자치구_202212_01시.csv',\n",
              " '생활이동_자치구_202212_00시.csv',\n",
              " '생활이동_자치구_202212_02시.csv',\n",
              " '생활이동_자치구_202212_03시.csv',\n",
              " '생활이동_자치구_202212_05시.csv',\n",
              " '생활이동_자치구_202212_04시.csv',\n",
              " '생활이동_자치구_202212_18시.csv',\n",
              " '생활이동_자치구_202212_19시.csv',\n",
              " '생활이동_자치구_202212_21시.csv',\n",
              " '생활이동_자치구_202212_20시.csv',\n",
              " '생활이동_자치구_202212_23시.csv',\n",
              " '생활이동_자치구_202212_22시.csv',\n",
              " '생활이동_자치구_202301_00시.csv',\n",
              " '생활이동_자치구_202301_02시.csv',\n",
              " '생활이동_자치구_202301_04시.csv',\n",
              " '생활이동_자치구_202301_05시.csv',\n",
              " '생활이동_자치구_202301_01시.csv',\n",
              " '생활이동_자치구_202301_03시.csv',\n",
              " '생활이동_자치구_202301_18시.csv',\n",
              " '생활이동_자치구_202301_19시.csv',\n",
              " '생활이동_자치구_202301_20시.csv',\n",
              " '생활이동_자치구_202301_21시.csv',\n",
              " '생활이동_자치구_202301_22시.csv',\n",
              " '생활이동_자치구_202301_23시.csv',\n",
              " '생활이동_자치구_202302_03시.csv',\n",
              " '생활이동_자치구_202302_02시.csv',\n",
              " '생활이동_자치구_202302_01시.csv',\n",
              " '생활이동_자치구_202302_00시.csv',\n",
              " '생활이동_자치구_202302_04시.csv',\n",
              " '생활이동_자치구_202302_05시.csv',\n",
              " '생활이동_자치구_202302_18시.csv',\n",
              " '생활이동_자치구_202302_20시.csv',\n",
              " '생활이동_자치구_202302_19시.csv',\n",
              " '생활이동_자치구_202302_23시.csv',\n",
              " '생활이동_자치구_202303_00시.csv',\n",
              " '생활이동_자치구_202303_02시.csv',\n",
              " '생활이동_자치구_202303_01시.csv',\n",
              " '생활이동_자치구_202303_03시.csv',\n",
              " '생활이동_자치구_202303_04시.csv',\n",
              " '생활이동_자치구_202303_05시.csv',\n",
              " '생활이동_자치구_202303_18시.csv',\n",
              " '생활이동_자치구_202303_19시.csv',\n",
              " '생활이동_자치구_202303_20시.csv',\n",
              " '생활이동_자치구_202303_22시.csv',\n",
              " '생활이동_자치구_202303_21시.csv',\n",
              " '생활이동_자치구_202303_23시.csv']"
            ]
          },
          "execution_count": 3,
          "metadata": {},
          "output_type": "execute_result"
        }
      ],
      "source": [
        "import os\n",
        "os.listdir('/content/drive/MyDrive/생활이동')  #파일경로에 있는 file명 리스트로 반환"
      ],
      "id": "9dea401e"
    },
    {
      "cell_type": "code",
      "execution_count": null,
      "metadata": {
        "id": "3b81f7e2"
      },
      "outputs": [],
      "source": [
        "forders = os.listdir('/content/drive/MyDrive/생활이동')"
      ],
      "id": "3b81f7e2"
    },
    {
      "cell_type": "code",
      "execution_count": null,
      "metadata": {
        "colab": {
          "background_save": true
        },
        "id": "bf4a8a51"
      },
      "outputs": [],
      "source": [
        "#새로운 데이터 프레임 만들기\n",
        "df_moving = pd.DataFrame()\n",
        "\n",
        "for files in forders:\n",
        "    df = pd.read_csv(files, encoding='cp949')\n",
        "    df_moving = pd.concat([df_moving, df])"
      ],
      "id": "bf4a8a51"
    },
    {
      "cell_type": "code",
      "execution_count": null,
      "metadata": {
        "colab": {
          "background_save": true
        },
        "id": "uv4TvtvDn-nN"
      },
      "outputs": [],
      "source": [
        "#해당하는 자치구+이동유형에 해당하는 행만 남기기\n",
        "con1 = df_moving['도착 시군구 코드'].isin([11110, 11160, 11210, 11230, 11240])\n",
        "con2 = df_moving['이동유형'].isin(['WH', 'EH', 'HH'])\n",
        "df = df_moving[con1 & con2]"
      ],
      "id": "uv4TvtvDn-nN"
    },
    {
      "cell_type": "code",
      "execution_count": null,
      "metadata": {
        "colab": {
          "background_save": true
        },
        "id": "trJmIcwiBJEe",
        "outputId": "1beb456f-0da0-4135-f620-4abe5ffcae7d"
      },
      "outputs": [
        {
          "name": "stdout",
          "output_type": "stream",
          "text": [
            "<class 'pandas.core.frame.DataFrame'>\n",
            "Int64Index: 3155542 entries, 924 to 1010991\n",
            "Data columns (total 10 columns):\n",
            " #   Column       Dtype \n",
            "---  ------       ----- \n",
            " 0   대상연월         int64 \n",
            " 1   요일           object\n",
            " 2   도착시간         int64 \n",
            " 3   출발 시군구 코드    int64 \n",
            " 4   도착 시군구 코드    int64 \n",
            " 5   성별           object\n",
            " 6   나이           int64 \n",
            " 7   이동유형         object\n",
            " 8   평균 이동 시간(분)  int64 \n",
            " 9   이동인구(합)      object\n",
            "dtypes: int64(6), object(4)\n",
            "memory usage: 264.8+ MB\n"
          ]
        }
      ],
      "source": [
        "df.info()"
      ],
      "id": "trJmIcwiBJEe"
    },
    {
      "cell_type": "code",
      "execution_count": null,
      "metadata": {
        "colab": {
          "background_save": true
        },
        "id": "cKSlv3EkELri",
        "outputId": "9172f403-e84e-4e46-e4c1-f7569796250c"
      },
      "outputs": [
        {
          "data": {
            "text/plain": [
              "대상연월           0\n",
              "요일             0\n",
              "도착시간           0\n",
              "출발 시군구 코드      0\n",
              "도착 시군구 코드      0\n",
              "성별             0\n",
              "나이             0\n",
              "이동유형           0\n",
              "평균 이동 시간(분)    0\n",
              "이동인구(합)        0\n",
              "dtype: int64"
            ]
          },
          "execution_count": 9,
          "metadata": {},
          "output_type": "execute_result"
        }
      ],
      "source": [
        "#결측값 확인\n",
        "df.isna().sum()"
      ],
      "id": "cKSlv3EkELri"
    }
  ],
  "metadata": {
    "colab": {
      "provenance": [],
      "include_colab_link": true
    },
    "kernelspec": {
      "display_name": "Python 3 (ipykernel)",
      "language": "python",
      "name": "python3"
    },
    "language_info": {
      "codemirror_mode": {
        "name": "ipython",
        "version": 3
      },
      "file_extension": ".py",
      "mimetype": "text/x-python",
      "name": "python",
      "nbconvert_exporter": "python",
      "pygments_lexer": "ipython3",
      "version": "3.9.13"
    }
  },
  "nbformat": 4,
  "nbformat_minor": 5
}
