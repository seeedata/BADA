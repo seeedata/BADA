{
  "cells": [
    {
      "cell_type": "markdown",
      "metadata": {
        "id": "view-in-github",
        "colab_type": "text"
      },
      "source": [
        "<a href=\"https://colab.research.google.com/github/seeedata/BADA/blob/main/0914%20OT/Coding%20Test.ipynb\" target=\"_parent\"><img src=\"https://colab.research.google.com/assets/colab-badge.svg\" alt=\"Open In Colab\"/></a>"
      ]
    },
    {
      "cell_type": "markdown",
      "metadata": {
        "id": "OftnfoaTCeM1"
      },
      "source": [
        "# 1. 콜라츠 추측 문제"
      ]
    },
    {
      "cell_type": "code",
      "execution_count": null,
      "metadata": {
        "id": "1GibvRtHCeM4",
        "outputId": "44a994a4-e635-456c-d0d0-967f0bbfe4b3"
      },
      "outputs": [
        {
          "name": "stdout",
          "output_type": "stream",
          "text": [
            "8\n"
          ]
        }
      ],
      "source": [
        "i = 0\n",
        "n = int(input())\n",
        "\n",
        "while n!=1 and i<500:\n",
        "    if n%2 == 0:\n",
        "        i += 1\n",
        "        n //= 2\n",
        "    else:\n",
        "        i += 1\n",
        "        n = 3*n + 1\n",
        "\n",
        "if n==1:\n",
        "    print(i)\n",
        "if i>=500:\n",
        "    print(-1)"
      ]
    },
    {
      "cell_type": "markdown",
      "metadata": {
        "id": "GMS1SGTaCeM6"
      },
      "source": [
        "# 2. 데이터 핸들링 문제"
      ]
    },
    {
      "cell_type": "markdown",
      "metadata": {
        "id": "PdpCKTj1CeM7"
      },
      "source": [
        "## 2-1"
      ]
    },
    {
      "cell_type": "code",
      "execution_count": null,
      "metadata": {
        "id": "q9PQ3tODCeM7"
      },
      "outputs": [],
      "source": [
        "import pandas as pd"
      ]
    },
    {
      "cell_type": "code",
      "execution_count": null,
      "metadata": {
        "id": "sHAMXLggCeM7"
      },
      "outputs": [],
      "source": [
        "def read_and_filter_data(file_name, gender):\n",
        "    df = pd.read_csv(file_name)\n",
        "    df = df.loc[df['성별']==gender]\n",
        "    return df"
      ]
    },
    {
      "cell_type": "code",
      "execution_count": null,
      "metadata": {
        "id": "x1OVqz-gCeM7",
        "outputId": "723f1aaa-2330-4cce-9100-234910bfe3cf"
      },
      "outputs": [
        {
          "data": {
            "text/html": [
              "<div>\n",
              "<style scoped>\n",
              "    .dataframe tbody tr th:only-of-type {\n",
              "        vertical-align: middle;\n",
              "    }\n",
              "\n",
              "    .dataframe tbody tr th {\n",
              "        vertical-align: top;\n",
              "    }\n",
              "\n",
              "    .dataframe thead th {\n",
              "        text-align: right;\n",
              "    }\n",
              "</style>\n",
              "<table border=\"1\" class=\"dataframe\">\n",
              "  <thead>\n",
              "    <tr style=\"text-align: right;\">\n",
              "      <th></th>\n",
              "      <th>이름</th>\n",
              "      <th>나이</th>\n",
              "      <th>성별</th>\n",
              "    </tr>\n",
              "  </thead>\n",
              "  <tbody>\n",
              "    <tr>\n",
              "      <th>1</th>\n",
              "      <td>나정현</td>\n",
              "      <td>21</td>\n",
              "      <td>여성</td>\n",
              "    </tr>\n",
              "  </tbody>\n",
              "</table>\n",
              "</div>"
            ],
            "text/plain": [
              "    이름  나이  성별\n",
              "1  나정현  21  여성"
            ]
          },
          "execution_count": 32,
          "metadata": {},
          "output_type": "execute_result"
        }
      ],
      "source": [
        "read_and_filter_data('data_codingtest.csv', '여성')"
      ]
    },
    {
      "cell_type": "markdown",
      "metadata": {
        "id": "XuqApefICeM8"
      },
      "source": [
        "## 2-2"
      ]
    },
    {
      "cell_type": "code",
      "execution_count": null,
      "metadata": {
        "id": "SUEXCciMCeM8"
      },
      "outputs": [],
      "source": [
        "def calculate_mean_age(file_name):\n",
        "    df = pd.read_csv(file_name)\n",
        "    mean = df['나이'].mean()\n",
        "    return mean"
      ]
    },
    {
      "cell_type": "code",
      "execution_count": null,
      "metadata": {
        "id": "pdkFfiMwCeM8",
        "outputId": "c15d0946-e2b9-43a2-93fd-45ef9d57b86d"
      },
      "outputs": [
        {
          "data": {
            "text/plain": [
              "22.0"
            ]
          },
          "execution_count": 35,
          "metadata": {},
          "output_type": "execute_result"
        }
      ],
      "source": [
        "calculate_mean_age('data_codingtest.csv')"
      ]
    }
  ],
  "metadata": {
    "kernelspec": {
      "display_name": "base",
      "language": "python",
      "name": "python3"
    },
    "language_info": {
      "codemirror_mode": {
        "name": "ipython",
        "version": 3
      },
      "file_extension": ".py",
      "mimetype": "text/x-python",
      "name": "python",
      "nbconvert_exporter": "python",
      "pygments_lexer": "ipython3",
      "version": "3.10.9"
    },
    "orig_nbformat": 4,
    "colab": {
      "provenance": [],
      "include_colab_link": true
    }
  },
  "nbformat": 4,
  "nbformat_minor": 0
}